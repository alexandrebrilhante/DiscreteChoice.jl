{
 "cells": [
  {
   "cell_type": "markdown",
   "metadata": {},
   "source": [
    "# Logit"
   ]
  },
  {
   "cell_type": "code",
   "execution_count": 74,
   "metadata": {},
   "outputs": [],
   "source": [
    "using DiscreteChoice"
   ]
  },
  {
   "cell_type": "code",
   "execution_count": 75,
   "metadata": {},
   "outputs": [],
   "source": [
    "using DataFrames, ForwardDiff"
   ]
  },
  {
   "cell_type": "code",
   "execution_count": 76,
   "metadata": {},
   "outputs": [
    {
     "data": {
      "text/html": [
       "<table class=\"data-frame\"><thead><tr><th></th><th>x1</th><th>x2</th><th>x3</th><th>x4</th><th>x5</th><th>x6</th><th>x7</th><th>x8</th><th>x9</th><th>x10</th><th>x11</th><th>x12</th><th>x13</th><th>x14</th><th>x15</th><th>x16</th><th>x17</th><th>x18</th><th>x19</th><th>x20</th><th>x21</th><th>x22</th><th>x23</th><th>x24</th><th>x25</th></tr></thead><tbody><tr><th>1</th><td>4</td><td>1</td><td>0</td><td>0</td><td>0</td><td>0</td><td>1</td><td>0</td><td>0</td><td>0</td><td>0</td><td>1</td><td>0</td><td>35</td><td>0</td><td>0</td><td>0</td><td>69</td><td>34</td><td>35</td><td>0</td><td>70</td><td>71</td><td>70</td><td>30</td></tr><tr><th>2</th><td>4</td><td>1</td><td>0</td><td>0</td><td>0</td><td>0</td><td>1</td><td>0</td><td>0</td><td>0</td><td>0</td><td>1</td><td>0</td><td>30</td><td>0</td><td>0</td><td>0</td><td>64</td><td>44</td><td>53</td><td>0</td><td>68</td><td>84</td><td>85</td><td>50</td></tr><tr><th>3</th><td>4</td><td>1</td><td>0</td><td>0</td><td>0</td><td>0</td><td>1</td><td>0</td><td>0</td><td>0</td><td>0</td><td>1</td><td>0</td><td>40</td><td>0</td><td>0</td><td>0</td><td>69</td><td>34</td><td>35</td><td>0</td><td>129</td><td>195</td><td>149</td><td>101</td></tr><tr><th>4</th><td>4</td><td>1</td><td>0</td><td>0</td><td>0</td><td>0</td><td>1</td><td>0</td><td>0</td><td>0</td><td>0</td><td>1</td><td>0</td><td>70</td><td>0</td><td>0</td><td>0</td><td>64</td><td>44</td><td>53</td><td>0</td><td>59</td><td>79</td><td>81</td><td>32</td></tr><tr><th>5</th><td>4</td><td>1</td><td>0</td><td>0</td><td>0</td><td>0</td><td>1</td><td>0</td><td>0</td><td>0</td><td>0</td><td>1</td><td>0</td><td>45</td><td>0</td><td>0</td><td>0</td><td>64</td><td>44</td><td>53</td><td>0</td><td>82</td><td>93</td><td>94</td><td>99</td></tr><tr><th>6</th><td>2</td><td>1</td><td>0</td><td>0</td><td>0</td><td>0</td><td>1</td><td>0</td><td>0</td><td>0</td><td>0</td><td>1</td><td>0</td><td>20</td><td>0</td><td>0</td><td>0</td><td>69</td><td>40</td><td>35</td><td>0</td><td>70</td><td>57</td><td>58</td><td>43</td></tr></tbody></table>"
      ],
      "text/plain": [
       "6×25 DataFrames.DataFrame\n",
       "│ Row │ x1 │ x2 │ x3 │ x4 │ x5 │ x6 │ x7 │ x8 │ x9 │ x10 │ x11 │ x12 │ x13 │\n",
       "├─────┼────┼────┼────┼────┼────┼────┼────┼────┼────┼─────┼─────┼─────┼─────┤\n",
       "│ 1   │ 4  │ 1  │ 0  │ 0  │ 0  │ 0  │ 1  │ 0  │ 0  │ 0   │ 0   │ 1   │ 0   │\n",
       "│ 2   │ 4  │ 1  │ 0  │ 0  │ 0  │ 0  │ 1  │ 0  │ 0  │ 0   │ 0   │ 1   │ 0   │\n",
       "│ 3   │ 4  │ 1  │ 0  │ 0  │ 0  │ 0  │ 1  │ 0  │ 0  │ 0   │ 0   │ 1   │ 0   │\n",
       "│ 4   │ 4  │ 1  │ 0  │ 0  │ 0  │ 0  │ 1  │ 0  │ 0  │ 0   │ 0   │ 1   │ 0   │\n",
       "│ 5   │ 4  │ 1  │ 0  │ 0  │ 0  │ 0  │ 1  │ 0  │ 0  │ 0   │ 0   │ 1   │ 0   │\n",
       "│ 6   │ 2  │ 1  │ 0  │ 0  │ 0  │ 0  │ 1  │ 0  │ 0  │ 0   │ 0   │ 1   │ 0   │\n",
       "\n",
       "│ Row │ x14 │ x15 │ x16 │ x17 │ x18 │ x19 │ x20 │ x21 │ x22 │ x23 │ x24 │ x25 │\n",
       "├─────┼─────┼─────┼─────┼─────┼─────┼─────┼─────┼─────┼─────┼─────┼─────┼─────┤\n",
       "│ 1   │ 35  │ 0   │ 0   │ 0   │ 69  │ 34  │ 35  │ 0   │ 70  │ 71  │ 70  │ 30  │\n",
       "│ 2   │ 30  │ 0   │ 0   │ 0   │ 64  │ 44  │ 53  │ 0   │ 68  │ 84  │ 85  │ 50  │\n",
       "│ 3   │ 40  │ 0   │ 0   │ 0   │ 69  │ 34  │ 35  │ 0   │ 129 │ 195 │ 149 │ 101 │\n",
       "│ 4   │ 70  │ 0   │ 0   │ 0   │ 64  │ 44  │ 53  │ 0   │ 59  │ 79  │ 81  │ 32  │\n",
       "│ 5   │ 45  │ 0   │ 0   │ 0   │ 64  │ 44  │ 53  │ 0   │ 82  │ 93  │ 94  │ 99  │\n",
       "│ 6   │ 20  │ 0   │ 0   │ 0   │ 69  │ 40  │ 35  │ 0   │ 70  │ 57  │ 58  │ 43  │"
      ]
     },
     "execution_count": 76,
     "metadata": {},
     "output_type": "execute_result"
    }
   ],
   "source": [
    "df = readtable(\"australia.txt\", separator = ' ', header = false)\n",
    "\n",
    "a, b = size(df)\n",
    "\n",
    "const n_individuals = a\n",
    "const n_alternatives = 4\n",
    "const n_parameters = b\n",
    "\n",
    "head(df)"
   ]
  },
  {
   "cell_type": "markdown",
   "metadata": {},
   "source": [
    "### For each individual, the logit is\n",
    "\n",
    "$$L_{ij}(\\beta) = P_{ij}(\\beta) = \\frac{e^{\\mu V_{ij}(\\beta)}}{\\sum_{m=1}^{|A(i)|} e^{\\mu V_{im}(\\beta)}}$$"
   ]
  },
  {
   "cell_type": "code",
   "execution_count": 77,
   "metadata": {},
   "outputs": [
    {
     "data": {
      "text/plain": [
       "individual (generic function with 1 method)"
      ]
     },
     "execution_count": 77,
     "metadata": {},
     "output_type": "execute_result"
    }
   ],
   "source": [
    "function individual(β::Vector, i::Int64)\n",
    "    m, n = size(df)\n",
    "    choice = df[i, 1][1]\n",
    "    data = convert(Array, df[i, 2:n_parameters])\n",
    "    alternatives = collect(1:n_alternatives)\n",
    "    splice!(alternatives, choice)\n",
    "    \n",
    "    function utility(β::Vector, k::Int64)\n",
    "        temp = Float64[]\n",
    "        k += 1\n",
    "        while k <= n_parameters\n",
    "            push!(temp, df[i, k])\n",
    "            k += n_alternatives\n",
    "        end\n",
    "        return dot(temp, β)\n",
    "    end\n",
    "    \n",
    "    function logit(β::Vector)\n",
    "        t = 0.0\n",
    "        c = utility(β, choice)\n",
    "        for alternative in alternatives\n",
    "            t += exp(utility(β, alternative) - c)\n",
    "        end\n",
    "        return 1 / (1 + t)\n",
    "    end\n",
    "    \n",
    "    return logit\n",
    "end"
   ]
  },
  {
   "cell_type": "markdown",
   "metadata": {},
   "source": [
    "### So the function we have to optimize is\n",
    "    \n",
    "$$\\max_{\\beta} LL(\\beta) = \\max_{\\beta} \\frac{1}{I} {\\sum_{i=1}^{I} \\ln P_{ij}(\\beta)}$$"
   ]
  },
  {
   "cell_type": "code",
   "execution_count": 78,
   "metadata": {},
   "outputs": [
    {
     "data": {
      "text/plain": [
       "f (generic function with 1 method)"
      ]
     },
     "execution_count": 78,
     "metadata": {},
     "output_type": "execute_result"
    }
   ],
   "source": [
    "function f(β::Vector)\n",
    "    model = 0.0\n",
    "    i = 1\n",
    "    while i <= n_individuals\n",
    "        logit = individual(β, i)\n",
    "        model += log(logit(β))\n",
    "        i += 1\n",
    "    end\n",
    "    return -model/n_individuals\n",
    "end"
   ]
  },
  {
   "cell_type": "code",
   "execution_count": 79,
   "metadata": {},
   "outputs": [],
   "source": [
    "g(x::Vector) = ForwardDiff.gradient(f, x);"
   ]
  },
  {
   "cell_type": "code",
   "execution_count": 80,
   "metadata": {},
   "outputs": [],
   "source": [
    "H(x::Vector) = ForwardDiff.hessian(f, x);"
   ]
  },
  {
   "cell_type": "markdown",
   "metadata": {},
   "source": [
    "### Using the trust-region method with the truncated conjugate gradient:"
   ]
  },
  {
   "cell_type": "code",
   "execution_count": 81,
   "metadata": {},
   "outputs": [
    {
     "data": {
      "text/plain": [
       "([5.20744, 3.86904, 3.16319, 0.013287, -0.0961248, -0.0155015], 12)"
      ]
     },
     "execution_count": 81,
     "metadata": {},
     "output_type": "execute_result"
    }
   ],
   "source": [
    "optimize(f, g, H, tcg, zeros(6))"
   ]
  },
  {
   "cell_type": "markdown",
   "metadata": {},
   "source": [
    "### What if we would want to use an Hessian approximation?"
   ]
  },
  {
   "cell_type": "code",
   "execution_count": 82,
   "metadata": {},
   "outputs": [
    {
     "data": {
      "text/plain": [
       "([5.20744, 3.86904, 3.16319, 0.013287, -0.0961248, -0.0155015], 46)"
      ]
     },
     "execution_count": 82,
     "metadata": {},
     "output_type": "execute_result"
    }
   ],
   "source": [
    "optimize(f, g, BFGS!, tcg, zeros(6), true)"
   ]
  }
 ],
 "metadata": {
  "kernelspec": {
   "display_name": "Julia 0.6.2",
   "language": "julia",
   "name": "julia-0.6"
  },
  "language_info": {
   "file_extension": ".jl",
   "mimetype": "application/julia",
   "name": "julia",
   "version": "0.6.2"
  }
 },
 "nbformat": 4,
 "nbformat_minor": 2
}
